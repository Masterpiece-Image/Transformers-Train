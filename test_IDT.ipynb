{
  "nbformat": 4,
  "nbformat_minor": 0,
  "metadata": {
    "colab": {
      "provenance": [],
      "mount_file_id": "11K88Ngb1ajf7I8FHEptOujETyxso4Zlg",
      "authorship_tag": "ABX9TyOZNMn/sBw9tpSDOjYCNSRH",
      "include_colab_link": true
    },
    "kernelspec": {
      "name": "python3",
      "display_name": "Python 3"
    },
    "language_info": {
      "name": "python"
    },
    "accelerator": "GPU",
    "gpuClass": "standard"
  },
  "cells": [
    {
      "cell_type": "markdown",
      "metadata": {
        "id": "view-in-github",
        "colab_type": "text"
      },
      "source": [
        "<a href=\"https://colab.research.google.com/github/Masterpiece-Image/Transformers-Train/blob/main/test_IDT.ipynb\" target=\"_parent\"><img src=\"https://colab.research.google.com/assets/colab-badge.svg\" alt=\"Open In Colab\"/></a>"
      ]
    },
    {
      "cell_type": "code",
      "execution_count": null,
      "metadata": {
        "colab": {
          "base_uri": "https://localhost:8080/"
        },
        "id": "ad0tAnSQcjk4",
        "outputId": "67cf5e3c-3f5d-4a34-a776-b95dd91da819"
      },
      "outputs": [
        {
          "output_type": "stream",
          "name": "stdout",
          "text": [
            "Cloning into 'IDT'...\n",
            "remote: Enumerating objects: 740, done.\u001b[K\n",
            "remote: Counting objects: 100% (740/740), done.\u001b[K\n",
            "remote: Compressing objects: 100% (705/705), done.\u001b[K\n",
            "remote: Total 740 (delta 44), reused 726 (delta 30), pack-reused 0\u001b[K\n",
            "Receiving objects: 100% (740/740), 3.33 MiB | 22.41 MiB/s, done.\n",
            "Resolving deltas: 100% (44/44), done.\n"
          ]
        }
      ],
      "source": [
        "!git clone https://github.com/jiexiaou/IDT.git"
      ]
    },
    {
      "cell_type": "code",
      "source": [
        "%load IDT/dataset/imgdata.py"
      ],
      "metadata": {
        "id": "NIu0vaDTgrS-"
      },
      "execution_count": null,
      "outputs": []
    },
    {
      "cell_type": "code",
      "source": [
        "!python3 train_derain.py --data_path \"drive/Mydrive/IDT/training/input\" --save_path \"IDT/models\""
      ],
      "metadata": {
        "id": "ZplIa0vbilsG"
      },
      "execution_count": null,
      "outputs": []
    },
    {
      "cell_type": "code",
      "source": [],
      "metadata": {
        "id": "1cnwdsUtjlZu"
      },
      "execution_count": null,
      "outputs": []
    }
  ]
}